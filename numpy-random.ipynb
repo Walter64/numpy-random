{
 "cells": [
  {
   "cell_type": "markdown",
   "id": "3bf93235-5ad6-42cc-b399-0cf26e769a48",
   "metadata": {},
   "source": [
    "# The Numpy Random Package\n",
    "\n",
    "[Official documentation](https://numpy.org/doc/stable/reference/random/index.html)\n",
    "\n",
    "***"
   ]
  },
  {
   "cell_type": "code",
   "execution_count": 1,
   "id": "3da44169-07b2-4c7e-a8bc-926a88a326e6",
   "metadata": {},
   "outputs": [],
   "source": [
    "# numpy is for efficient numerical arrays\n",
    "import numpy as np\n",
    "\n",
    "# plotting\n",
    "import matplotlib.pyplot as plt"
   ]
  },
  {
   "cell_type": "code",
   "execution_count": 2,
   "id": "ce3cc870-fc1d-4a10-a62f-8b7ee4a6e4db",
   "metadata": {},
   "outputs": [],
   "source": [
    "# == put any configuration under the imports\n",
    "\n",
    "# change default style sheet\n",
    "#plt.style.use('ggplot')\n",
    "plt.style.use('fivethirtyeight')\n",
    "\n",
    "# change the default figure size\n",
    "plt.rcParams['figure.figsize'] = [10, 5]"
   ]
  },
  {
   "cell_type": "markdown",
   "id": "5efc08b7-9e0a-46ca-a900-785d5e3fad6d",
   "metadata": {},
   "source": [
    "<br>\n",
    "\n",
    "## numpy.random.normal\n",
    "\n",
    "https://numpy.org/doc/stable/reference/random/generated/numpy.random.normal.html\n",
    "\n",
    "***"
   ]
  },
  {
   "cell_type": "code",
   "execution_count": 3,
   "id": "fa9245a7-bb5e-42ac-a886-d9b60f0703ac",
   "metadata": {},
   "outputs": [],
   "source": [
    "mu, sigma = 0, 0.1 # mean and standard deviation\n",
    "s = np.random.normal(mu, sigma, 1000)"
   ]
  },
  {
   "cell_type": "code",
   "execution_count": 4,
   "id": "de5d9bdc-3ab0-4c35-8fba-2c5e69d162cf",
   "metadata": {
    "tags": []
   },
   "outputs": [
    {
     "data": {
      "text/plain": [
       "array([ 0.00957513, -0.01137488, -0.08635004,  0.02450794, -0.25707426,\n",
       "       -0.01141008, -0.05690773,  0.20224414, -0.0195752 ,  0.05325826])"
      ]
     },
     "execution_count": 4,
     "metadata": {},
     "output_type": "execute_result"
    }
   ],
   "source": [
    "# display first ten items\n",
    "s[:10] # excludes item at index 10 (0 to 9)"
   ]
  },
  {
   "cell_type": "code",
   "execution_count": 5,
   "id": "ab0b421e-3218-46f3-9d45-70a382070a80",
   "metadata": {},
   "outputs": [
    {
     "data": {
      "text/plain": [
       "0.0041105262306543365"
      ]
     },
     "execution_count": 5,
     "metadata": {},
     "output_type": "execute_result"
    }
   ],
   "source": [
    "abs(mu - np.mean(s))"
   ]
  },
  {
   "cell_type": "code",
   "execution_count": 6,
   "id": "c3dbcf1f-6969-4281-a928-91d8160a19ea",
   "metadata": {},
   "outputs": [
    {
     "data": {
      "text/plain": [
       "0.000756357640731592"
      ]
     },
     "execution_count": 6,
     "metadata": {},
     "output_type": "execute_result"
    }
   ],
   "source": [
    "abs(sigma - np.std(s, ddof=1))"
   ]
  },
  {
   "cell_type": "markdown",
   "id": "331cc810-fa39-477e-8011-e1b090f77a5c",
   "metadata": {},
   "source": [
    " ## Display the histogram of the samples, along with the probability density function"
   ]
  },
  {
   "cell_type": "code",
   "execution_count": 7,
   "id": "0e5e528b-6784-4405-aece-0d7147223dbd",
   "metadata": {},
   "outputs": [
    {
     "data": {
      "image/png": "[encoded data removed]",
      "text/plain": [
       "<Figure size 720x360 with 1 Axes>"
      ]
     },
     "metadata": {},
     "output_type": "display_data"
    }
   ],
   "source": [
    "# uses matplotlib.pyplot\n",
    "\n",
    "# count, bins, ignored = plt.hist(s, 30, density=True)\n",
    "# plt.plot(bins, 1/(sigma * np.sqrt(2 * np.pi)) * np.exp( - (bins - mu)**2 / (2 * sigma**2) ), linewidth=2, color='r')\n",
    "# plt.show()\n",
    "\n",
    "count, bins, ignored = plt.hist(s, 30, density=True)\n",
    "f = 1/(sigma * np.sqrt(2 * np.pi)) * np.exp(-(bins - mu)**2/(2 * sigma**2))\n",
    "plt.plot(bins, f, linewidth=2) # removed color ='r'\n",
    "plt.show()"
   ]
  },
  {
   "cell_type": "markdown",
   "id": "c7d951ca-866a-47bf-acea-a1789b7e3741",
   "metadata": {},
   "source": [
    "## References\n",
    "\n",
    "[1] https://www.datacamp.com/community/tutorials/numpy-random"
   ]
  },
  {
   "cell_type": "markdown",
   "id": "7aecc98f-ed18-460a-8a69-47301aaf43ca",
   "metadata": {},
   "source": [
    "***\n",
    "## End"
   ]
  }
 ],
 "metadata": {
  "kernelspec": {
   "display_name": "Python 3",
   "language": "python",
   "name": "python3"
  },
  "language_info": {
   "codemirror_mode": {
    "name": "ipython",
    "version": 3
   },
   "file_extension": ".py",
   "mimetype": "text/x-python",
   "name": "python",
   "nbconvert_exporter": "python",
   "pygments_lexer": "ipython3",
   "version": "3.8.8"
  }
 },
 "nbformat": 4,
 "nbformat_minor": 5
}
